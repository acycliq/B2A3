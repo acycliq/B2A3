{
 "cells": [
  {
   "cell_type": "code",
   "execution_count": 1,
   "id": "b2aa071c-f1d6-4c35-baf9-43b8b8c83cf3",
   "metadata": {},
   "outputs": [],
   "source": [
    "import pandas as pd\n",
    "import numpy as np\n",
    "import laspy\n",
    "import os\n",
    "import subprocess\n",
    "import random\n",
    "\n",
    "random.seed(2023)"
   ]
  },
  {
   "cell_type": "code",
   "execution_count": 2,
   "id": "68c7438e-7720-44ce-85aa-badc00b91630",
   "metadata": {},
   "outputs": [],
   "source": [
    "def hex_to_rgb(hex):\n",
    "    hex = hex.replace('#', '')\n",
    "    rgb = []\n",
    "    for i in (0, 2, 4):\n",
    "        decimal = int(hex[i:i+2], 16)\n",
    "        rgb.append(decimal)\n",
    "    return tuple(rgb)"
   ]
  },
  {
   "cell_type": "code",
   "execution_count": 3,
   "id": "90e25953-9716-4039-8293-3fd90c197dff",
   "metadata": {},
   "outputs": [],
   "source": [
    "df = pd.read_csv(r\"E:\\data\\Izzie\\221020_IF_primary_then_seq\\pciSeq\\geneData.tsv\", sep='\\t')\n",
    "df = df[['Gene','x','y','z']]"
   ]
  },
  {
   "cell_type": "code",
   "execution_count": 4,
   "id": "2e7204ce-908a-4f71-865c-2325bf900194",
   "metadata": {},
   "outputs": [
    {
     "name": "stdout",
     "output_type": "stream",
     "text": [
      "(1776408, 4)\n"
     ]
    }
   ],
   "source": [
    "df = df.rename({'Gene': 'gene'}, axis=1)\n",
    "print(df.shape)"
   ]
  },
  {
   "cell_type": "code",
   "execution_count": 5,
   "id": "e5bcd1fa-4cd2-4e8d-b378-9ad74cc66cc0",
   "metadata": {},
   "outputs": [
    {
     "data": {
      "text/plain": [
       "(73,)"
      ]
     },
     "execution_count": 5,
     "metadata": {},
     "output_type": "execute_result"
    }
   ],
   "source": [
    "np.unique(df.gene).shape"
   ]
  },
  {
   "cell_type": "code",
   "execution_count": 6,
   "id": "a194da1f-06c1-4081-a770-4ffe4f5d5824",
   "metadata": {},
   "outputs": [],
   "source": [
    "import json\n",
    "\n",
    "with open(r'73_gene_colour_scheme.js') as dataFile:\n",
    "    data = dataFile.read()\n",
    "    # obj = data[data.find('{') : data.rfind('}')+1]\n",
    "    # jsonObj = json.loads(obj)\n"
   ]
  },
  {
   "cell_type": "code",
   "execution_count": 7,
   "id": "f8c134c9-61a6-493d-a484-e062293895e3",
   "metadata": {},
   "outputs": [],
   "source": [
    "data = data.replace(\" function  glyphSettings() { return \", \"\")\n",
    "data = data.replace(\" }\", \"\")\n",
    "# json.loads(data)"
   ]
  },
  {
   "cell_type": "code",
   "execution_count": 8,
   "id": "5ddf6947-2003-45e7-a661-83c4172409de",
   "metadata": {},
   "outputs": [
    {
     "data": {
      "text/html": [
       "<div>\n",
       "<style scoped>\n",
       "    .dataframe tbody tr th:only-of-type {\n",
       "        vertical-align: middle;\n",
       "    }\n",
       "\n",
       "    .dataframe tbody tr th {\n",
       "        vertical-align: top;\n",
       "    }\n",
       "\n",
       "    .dataframe thead th {\n",
       "        text-align: right;\n",
       "    }\n",
       "</style>\n",
       "<table border=\"1\" class=\"dataframe\">\n",
       "  <thead>\n",
       "    <tr style=\"text-align: right;\">\n",
       "      <th></th>\n",
       "      <th>gene</th>\n",
       "      <th>color</th>\n",
       "      <th>glyphName</th>\n",
       "    </tr>\n",
       "  </thead>\n",
       "  <tbody>\n",
       "    <tr>\n",
       "      <th>0</th>\n",
       "      <td>Snca</td>\n",
       "      <td>#0000FF</td>\n",
       "      <td>plus</td>\n",
       "    </tr>\n",
       "    <tr>\n",
       "      <th>1</th>\n",
       "      <td>Cplx2</td>\n",
       "      <td>#0000FF</td>\n",
       "      <td>point</td>\n",
       "    </tr>\n",
       "    <tr>\n",
       "      <th>2</th>\n",
       "      <td>Lhx6</td>\n",
       "      <td>#0000FF</td>\n",
       "      <td>square</td>\n",
       "    </tr>\n",
       "    <tr>\n",
       "      <th>3</th>\n",
       "      <td>Col25a1</td>\n",
       "      <td>#0000FF</td>\n",
       "      <td>triangleUp</td>\n",
       "    </tr>\n",
       "    <tr>\n",
       "      <th>4</th>\n",
       "      <td>Pnoc</td>\n",
       "      <td>#0000FF</td>\n",
       "      <td>triangleRight</td>\n",
       "    </tr>\n",
       "    <tr>\n",
       "      <th>...</th>\n",
       "      <td>...</td>\n",
       "      <td>...</td>\n",
       "      <td>...</td>\n",
       "    </tr>\n",
       "    <tr>\n",
       "      <th>106</th>\n",
       "      <td>Plp1</td>\n",
       "      <td>#FFFFFF</td>\n",
       "      <td>cross</td>\n",
       "    </tr>\n",
       "    <tr>\n",
       "      <th>107</th>\n",
       "      <td>Mal</td>\n",
       "      <td>#FFFFFF</td>\n",
       "      <td>plus</td>\n",
       "    </tr>\n",
       "    <tr>\n",
       "      <th>108</th>\n",
       "      <td>Aldoc</td>\n",
       "      <td>#FFFFFF</td>\n",
       "      <td>circle</td>\n",
       "    </tr>\n",
       "    <tr>\n",
       "      <th>109</th>\n",
       "      <td>Actb</td>\n",
       "      <td>#FFFFFF</td>\n",
       "      <td>triangleDown</td>\n",
       "    </tr>\n",
       "    <tr>\n",
       "      <th>110</th>\n",
       "      <td>Sulf2</td>\n",
       "      <td>#FFFFFF</td>\n",
       "      <td>star5</td>\n",
       "    </tr>\n",
       "  </tbody>\n",
       "</table>\n",
       "<p>111 rows × 3 columns</p>\n",
       "</div>"
      ],
      "text/plain": [
       "        gene    color      glyphName\n",
       "0       Snca  #0000FF           plus\n",
       "1      Cplx2  #0000FF          point\n",
       "2       Lhx6  #0000FF         square\n",
       "3    Col25a1  #0000FF     triangleUp\n",
       "4       Pnoc  #0000FF  triangleRight\n",
       "..       ...      ...            ...\n",
       "106     Plp1  #FFFFFF          cross\n",
       "107      Mal  #FFFFFF           plus\n",
       "108    Aldoc  #FFFFFF         circle\n",
       "109     Actb  #FFFFFF   triangleDown\n",
       "110    Sulf2  #FFFFFF          star5\n",
       "\n",
       "[111 rows x 3 columns]"
      ]
     },
     "execution_count": 8,
     "metadata": {},
     "output_type": "execute_result"
    }
   ],
   "source": [
    "data = pd.DataFrame(eval(data))\n",
    "data"
   ]
  },
  {
   "cell_type": "code",
   "execution_count": 9,
   "id": "31cf0ec3-db12-48ea-ae90-baf2a942ab2a",
   "metadata": {},
   "outputs": [
    {
     "data": {
      "text/plain": [
       "set()"
      ]
     },
     "execution_count": 9,
     "metadata": {},
     "output_type": "execute_result"
    }
   ],
   "source": [
    "set(df.gene) - set(data.gene)"
   ]
  },
  {
   "cell_type": "code",
   "execution_count": 10,
   "id": "53f71492-929c-4b62-b06e-f55d9b1e5c4a",
   "metadata": {},
   "outputs": [
    {
     "data": {
      "text/plain": [
       "['asterisk',\n",
       " 'circle',\n",
       " 'cross',\n",
       " 'diamond',\n",
       " 'plus',\n",
       " 'point',\n",
       " 'square',\n",
       " 'star5',\n",
       " 'star6',\n",
       " 'triangleDown',\n",
       " 'triangleLeft',\n",
       " 'triangleRight',\n",
       " 'triangleUp']"
      ]
     },
     "execution_count": 10,
     "metadata": {},
     "output_type": "execute_result"
    }
   ],
   "source": [
    "shapes = ['star6', 'star5','diamond','square',\n",
    "          'triangleUp','triangleDown','triangleRight','triangleLeft',\n",
    "          'cross','plus','asterisk','circle',\n",
    "          'point']\n",
    "\n",
    "shapes = sorted(shapes)\n",
    "shapes.index('star5')\n",
    "shapes"
   ]
  },
  {
   "cell_type": "code",
   "execution_count": 11,
   "id": "bb3ad548-a019-4700-ae75-a1a0e00003d4",
   "metadata": {},
   "outputs": [
    {
     "data": {
      "text/html": [
       "<div>\n",
       "<style scoped>\n",
       "    .dataframe tbody tr th:only-of-type {\n",
       "        vertical-align: middle;\n",
       "    }\n",
       "\n",
       "    .dataframe tbody tr th {\n",
       "        vertical-align: top;\n",
       "    }\n",
       "\n",
       "    .dataframe thead th {\n",
       "        text-align: right;\n",
       "    }\n",
       "</style>\n",
       "<table border=\"1\" class=\"dataframe\">\n",
       "  <thead>\n",
       "    <tr style=\"text-align: right;\">\n",
       "      <th></th>\n",
       "      <th>gene</th>\n",
       "      <th>color</th>\n",
       "      <th>glyphName</th>\n",
       "      <th>classification</th>\n",
       "    </tr>\n",
       "  </thead>\n",
       "  <tbody>\n",
       "    <tr>\n",
       "      <th>0</th>\n",
       "      <td>Snca</td>\n",
       "      <td>#0000FF</td>\n",
       "      <td>plus</td>\n",
       "      <td>4</td>\n",
       "    </tr>\n",
       "    <tr>\n",
       "      <th>1</th>\n",
       "      <td>Cplx2</td>\n",
       "      <td>#0000FF</td>\n",
       "      <td>point</td>\n",
       "      <td>5</td>\n",
       "    </tr>\n",
       "    <tr>\n",
       "      <th>2</th>\n",
       "      <td>Lhx6</td>\n",
       "      <td>#0000FF</td>\n",
       "      <td>square</td>\n",
       "      <td>6</td>\n",
       "    </tr>\n",
       "    <tr>\n",
       "      <th>3</th>\n",
       "      <td>Col25a1</td>\n",
       "      <td>#0000FF</td>\n",
       "      <td>triangleUp</td>\n",
       "      <td>12</td>\n",
       "    </tr>\n",
       "    <tr>\n",
       "      <th>4</th>\n",
       "      <td>Pnoc</td>\n",
       "      <td>#0000FF</td>\n",
       "      <td>triangleRight</td>\n",
       "      <td>11</td>\n",
       "    </tr>\n",
       "    <tr>\n",
       "      <th>...</th>\n",
       "      <td>...</td>\n",
       "      <td>...</td>\n",
       "      <td>...</td>\n",
       "      <td>...</td>\n",
       "    </tr>\n",
       "    <tr>\n",
       "      <th>106</th>\n",
       "      <td>Plp1</td>\n",
       "      <td>#FFFFFF</td>\n",
       "      <td>cross</td>\n",
       "      <td>2</td>\n",
       "    </tr>\n",
       "    <tr>\n",
       "      <th>107</th>\n",
       "      <td>Mal</td>\n",
       "      <td>#FFFFFF</td>\n",
       "      <td>plus</td>\n",
       "      <td>4</td>\n",
       "    </tr>\n",
       "    <tr>\n",
       "      <th>108</th>\n",
       "      <td>Aldoc</td>\n",
       "      <td>#FFFFFF</td>\n",
       "      <td>circle</td>\n",
       "      <td>1</td>\n",
       "    </tr>\n",
       "    <tr>\n",
       "      <th>109</th>\n",
       "      <td>Actb</td>\n",
       "      <td>#FFFFFF</td>\n",
       "      <td>triangleDown</td>\n",
       "      <td>9</td>\n",
       "    </tr>\n",
       "    <tr>\n",
       "      <th>110</th>\n",
       "      <td>Sulf2</td>\n",
       "      <td>#FFFFFF</td>\n",
       "      <td>star5</td>\n",
       "      <td>7</td>\n",
       "    </tr>\n",
       "  </tbody>\n",
       "</table>\n",
       "<p>111 rows × 4 columns</p>\n",
       "</div>"
      ],
      "text/plain": [
       "        gene    color      glyphName  classification\n",
       "0       Snca  #0000FF           plus               4\n",
       "1      Cplx2  #0000FF          point               5\n",
       "2       Lhx6  #0000FF         square               6\n",
       "3    Col25a1  #0000FF     triangleUp              12\n",
       "4       Pnoc  #0000FF  triangleRight              11\n",
       "..       ...      ...            ...             ...\n",
       "106     Plp1  #FFFFFF          cross               2\n",
       "107      Mal  #FFFFFF           plus               4\n",
       "108    Aldoc  #FFFFFF         circle               1\n",
       "109     Actb  #FFFFFF   triangleDown               9\n",
       "110    Sulf2  #FFFFFF          star5               7\n",
       "\n",
       "[111 rows x 4 columns]"
      ]
     },
     "execution_count": 11,
     "metadata": {},
     "output_type": "execute_result"
    }
   ],
   "source": [
    "glyph_id = data.glyphName.map(shapes.index)\n",
    "data['classification'] = glyph_id\n",
    "data"
   ]
  },
  {
   "cell_type": "code",
   "execution_count": 12,
   "id": "656f5bbe-b280-4098-bc95-48a0156ff910",
   "metadata": {},
   "outputs": [
    {
     "data": {
      "text/html": [
       "<div>\n",
       "<style scoped>\n",
       "    .dataframe tbody tr th:only-of-type {\n",
       "        vertical-align: middle;\n",
       "    }\n",
       "\n",
       "    .dataframe tbody tr th {\n",
       "        vertical-align: top;\n",
       "    }\n",
       "\n",
       "    .dataframe thead th {\n",
       "        text-align: right;\n",
       "    }\n",
       "</style>\n",
       "<table border=\"1\" class=\"dataframe\">\n",
       "  <thead>\n",
       "    <tr style=\"text-align: right;\">\n",
       "      <th></th>\n",
       "      <th>gene</th>\n",
       "      <th>r</th>\n",
       "      <th>g</th>\n",
       "      <th>b</th>\n",
       "    </tr>\n",
       "  </thead>\n",
       "  <tbody>\n",
       "    <tr>\n",
       "      <th>0</th>\n",
       "      <td>Snca</td>\n",
       "      <td>0</td>\n",
       "      <td>0</td>\n",
       "      <td>255</td>\n",
       "    </tr>\n",
       "    <tr>\n",
       "      <th>1</th>\n",
       "      <td>Cplx2</td>\n",
       "      <td>0</td>\n",
       "      <td>0</td>\n",
       "      <td>255</td>\n",
       "    </tr>\n",
       "    <tr>\n",
       "      <th>2</th>\n",
       "      <td>Lhx6</td>\n",
       "      <td>0</td>\n",
       "      <td>0</td>\n",
       "      <td>255</td>\n",
       "    </tr>\n",
       "    <tr>\n",
       "      <th>3</th>\n",
       "      <td>Col25a1</td>\n",
       "      <td>0</td>\n",
       "      <td>0</td>\n",
       "      <td>255</td>\n",
       "    </tr>\n",
       "    <tr>\n",
       "      <th>4</th>\n",
       "      <td>Pnoc</td>\n",
       "      <td>0</td>\n",
       "      <td>0</td>\n",
       "      <td>255</td>\n",
       "    </tr>\n",
       "    <tr>\n",
       "      <th>...</th>\n",
       "      <td>...</td>\n",
       "      <td>...</td>\n",
       "      <td>...</td>\n",
       "      <td>...</td>\n",
       "    </tr>\n",
       "    <tr>\n",
       "      <th>106</th>\n",
       "      <td>Plp1</td>\n",
       "      <td>255</td>\n",
       "      <td>255</td>\n",
       "      <td>255</td>\n",
       "    </tr>\n",
       "    <tr>\n",
       "      <th>107</th>\n",
       "      <td>Mal</td>\n",
       "      <td>255</td>\n",
       "      <td>255</td>\n",
       "      <td>255</td>\n",
       "    </tr>\n",
       "    <tr>\n",
       "      <th>108</th>\n",
       "      <td>Aldoc</td>\n",
       "      <td>255</td>\n",
       "      <td>255</td>\n",
       "      <td>255</td>\n",
       "    </tr>\n",
       "    <tr>\n",
       "      <th>109</th>\n",
       "      <td>Actb</td>\n",
       "      <td>255</td>\n",
       "      <td>255</td>\n",
       "      <td>255</td>\n",
       "    </tr>\n",
       "    <tr>\n",
       "      <th>110</th>\n",
       "      <td>Sulf2</td>\n",
       "      <td>255</td>\n",
       "      <td>255</td>\n",
       "      <td>255</td>\n",
       "    </tr>\n",
       "  </tbody>\n",
       "</table>\n",
       "<p>111 rows × 4 columns</p>\n",
       "</div>"
      ],
      "text/plain": [
       "        gene    r    g    b\n",
       "0       Snca    0    0  255\n",
       "1      Cplx2    0    0  255\n",
       "2       Lhx6    0    0  255\n",
       "3    Col25a1    0    0  255\n",
       "4       Pnoc    0    0  255\n",
       "..       ...  ...  ...  ...\n",
       "106     Plp1  255  255  255\n",
       "107      Mal  255  255  255\n",
       "108    Aldoc  255  255  255\n",
       "109     Actb  255  255  255\n",
       "110    Sulf2  255  255  255\n",
       "\n",
       "[111 rows x 4 columns]"
      ]
     },
     "execution_count": 12,
     "metadata": {},
     "output_type": "execute_result"
    }
   ],
   "source": [
    "r = []\n",
    "g = []\n",
    "b = []\n",
    "for index, row in data.iterrows():\n",
    "    rgb = hex_to_rgb(row['color'])\n",
    "    r.append(rgb[0])\n",
    "    g.append(rgb[1])\n",
    "    b.append(rgb[2])\n",
    "data['r'] = r\n",
    "data['g'] = g\n",
    "data['b'] = b\n",
    "df_colors = data[['gene','r','g','b']]\n",
    "df_colors"
   ]
  },
  {
   "cell_type": "code",
   "execution_count": 13,
   "id": "432bc901-01fd-4f2b-af41-eb7da3a06352",
   "metadata": {},
   "outputs": [
    {
     "data": {
      "text/plain": [
       "(1776408, 4)"
      ]
     },
     "execution_count": 13,
     "metadata": {},
     "output_type": "execute_result"
    }
   ],
   "source": [
    "df.shape"
   ]
  },
  {
   "cell_type": "code",
   "execution_count": 14,
   "id": "9b192d17-38e6-4f77-b2bf-699876cd2697",
   "metadata": {},
   "outputs": [
    {
     "data": {
      "text/plain": [
       "(111, 7)"
      ]
     },
     "execution_count": 14,
     "metadata": {},
     "output_type": "execute_result"
    }
   ],
   "source": [
    "data.shape"
   ]
  },
  {
   "cell_type": "code",
   "execution_count": 15,
   "id": "5316b2b3-6b82-4ae6-9997-42c53ff15f46",
   "metadata": {},
   "outputs": [],
   "source": [
    "df = df.merge(data, on='gene')"
   ]
  },
  {
   "cell_type": "code",
   "execution_count": 16,
   "id": "7c392d0b-df66-4401-a981-628f0f49fa29",
   "metadata": {},
   "outputs": [
    {
     "data": {
      "text/plain": [
       "(1776408, 10)"
      ]
     },
     "execution_count": 16,
     "metadata": {},
     "output_type": "execute_result"
    }
   ],
   "source": [
    "df.shape"
   ]
  },
  {
   "cell_type": "code",
   "execution_count": 17,
   "id": "a5a921c5-49c2-4456-a4e7-5c5c2477eabb",
   "metadata": {},
   "outputs": [],
   "source": [
    "genes, gene_id = np.unique(df.gene, return_inverse=True)\n",
    "# df['classification'] = gene_id\n",
    "# df['classification'] = [shapes.index(random.choice(shapes)) for d in gene_id]\n",
    "df['pointSourceID'] = gene_id"
   ]
  },
  {
   "cell_type": "code",
   "execution_count": 18,
   "id": "ffa7267d-9722-4408-a609-1b7c3a203bdf",
   "metadata": {},
   "outputs": [
    {
     "data": {
      "text/html": [
       "<div>\n",
       "<style scoped>\n",
       "    .dataframe tbody tr th:only-of-type {\n",
       "        vertical-align: middle;\n",
       "    }\n",
       "\n",
       "    .dataframe tbody tr th {\n",
       "        vertical-align: top;\n",
       "    }\n",
       "\n",
       "    .dataframe thead th {\n",
       "        text-align: right;\n",
       "    }\n",
       "</style>\n",
       "<table border=\"1\" class=\"dataframe\">\n",
       "  <thead>\n",
       "    <tr style=\"text-align: right;\">\n",
       "      <th></th>\n",
       "      <th>gene</th>\n",
       "      <th>x</th>\n",
       "      <th>y</th>\n",
       "      <th>z</th>\n",
       "      <th>color</th>\n",
       "      <th>glyphName</th>\n",
       "      <th>classification</th>\n",
       "      <th>r</th>\n",
       "      <th>g</th>\n",
       "      <th>b</th>\n",
       "      <th>pointSourceID</th>\n",
       "    </tr>\n",
       "  </thead>\n",
       "  <tbody>\n",
       "    <tr>\n",
       "      <th>0</th>\n",
       "      <td>Aldoc</td>\n",
       "      <td>7267.578628</td>\n",
       "      <td>37.180359</td>\n",
       "      <td>158.016013</td>\n",
       "      <td>#FFFFFF</td>\n",
       "      <td>circle</td>\n",
       "      <td>1</td>\n",
       "      <td>255</td>\n",
       "      <td>255</td>\n",
       "      <td>255</td>\n",
       "      <td>0</td>\n",
       "    </tr>\n",
       "    <tr>\n",
       "      <th>1</th>\n",
       "      <td>Aldoc</td>\n",
       "      <td>6485.578628</td>\n",
       "      <td>42.180359</td>\n",
       "      <td>61.091773</td>\n",
       "      <td>#FFFFFF</td>\n",
       "      <td>circle</td>\n",
       "      <td>1</td>\n",
       "      <td>255</td>\n",
       "      <td>255</td>\n",
       "      <td>255</td>\n",
       "      <td>0</td>\n",
       "    </tr>\n",
       "    <tr>\n",
       "      <th>2</th>\n",
       "      <td>Aldoc</td>\n",
       "      <td>7239.578628</td>\n",
       "      <td>46.180359</td>\n",
       "      <td>158.016013</td>\n",
       "      <td>#FFFFFF</td>\n",
       "      <td>circle</td>\n",
       "      <td>1</td>\n",
       "      <td>255</td>\n",
       "      <td>255</td>\n",
       "      <td>255</td>\n",
       "      <td>0</td>\n",
       "    </tr>\n",
       "    <tr>\n",
       "      <th>3</th>\n",
       "      <td>Aldoc</td>\n",
       "      <td>7240.578628</td>\n",
       "      <td>50.180359</td>\n",
       "      <td>158.016013</td>\n",
       "      <td>#FFFFFF</td>\n",
       "      <td>circle</td>\n",
       "      <td>1</td>\n",
       "      <td>255</td>\n",
       "      <td>255</td>\n",
       "      <td>255</td>\n",
       "      <td>0</td>\n",
       "    </tr>\n",
       "    <tr>\n",
       "      <th>4</th>\n",
       "      <td>Aldoc</td>\n",
       "      <td>6557.578628</td>\n",
       "      <td>61.180359</td>\n",
       "      <td>154.554433</td>\n",
       "      <td>#FFFFFF</td>\n",
       "      <td>circle</td>\n",
       "      <td>1</td>\n",
       "      <td>255</td>\n",
       "      <td>255</td>\n",
       "      <td>255</td>\n",
       "      <td>0</td>\n",
       "    </tr>\n",
       "    <tr>\n",
       "      <th>...</th>\n",
       "      <td>...</td>\n",
       "      <td>...</td>\n",
       "      <td>...</td>\n",
       "      <td>...</td>\n",
       "      <td>...</td>\n",
       "      <td>...</td>\n",
       "      <td>...</td>\n",
       "      <td>...</td>\n",
       "      <td>...</td>\n",
       "      <td>...</td>\n",
       "      <td>...</td>\n",
       "    </tr>\n",
       "    <tr>\n",
       "      <th>1776403</th>\n",
       "      <td>Yjefn3</td>\n",
       "      <td>624.357445</td>\n",
       "      <td>1991.000000</td>\n",
       "      <td>152.001052</td>\n",
       "      <td>#FF0000</td>\n",
       "      <td>triangleDown</td>\n",
       "      <td>9</td>\n",
       "      <td>255</td>\n",
       "      <td>0</td>\n",
       "      <td>0</td>\n",
       "      <td>72</td>\n",
       "    </tr>\n",
       "    <tr>\n",
       "      <th>1776404</th>\n",
       "      <td>Yjefn3</td>\n",
       "      <td>442.357445</td>\n",
       "      <td>2014.000000</td>\n",
       "      <td>34.307332</td>\n",
       "      <td>#FF0000</td>\n",
       "      <td>triangleDown</td>\n",
       "      <td>9</td>\n",
       "      <td>255</td>\n",
       "      <td>0</td>\n",
       "      <td>0</td>\n",
       "      <td>72</td>\n",
       "    </tr>\n",
       "    <tr>\n",
       "      <th>1776405</th>\n",
       "      <td>Yjefn3</td>\n",
       "      <td>597.357445</td>\n",
       "      <td>2022.000000</td>\n",
       "      <td>162.385792</td>\n",
       "      <td>#FF0000</td>\n",
       "      <td>triangleDown</td>\n",
       "      <td>9</td>\n",
       "      <td>255</td>\n",
       "      <td>0</td>\n",
       "      <td>0</td>\n",
       "      <td>72</td>\n",
       "    </tr>\n",
       "    <tr>\n",
       "      <th>1776406</th>\n",
       "      <td>Yjefn3</td>\n",
       "      <td>516.357445</td>\n",
       "      <td>2033.000000</td>\n",
       "      <td>48.153652</td>\n",
       "      <td>#FF0000</td>\n",
       "      <td>triangleDown</td>\n",
       "      <td>9</td>\n",
       "      <td>255</td>\n",
       "      <td>0</td>\n",
       "      <td>0</td>\n",
       "      <td>72</td>\n",
       "    </tr>\n",
       "    <tr>\n",
       "      <th>1776407</th>\n",
       "      <td>Yjefn3</td>\n",
       "      <td>1057.357445</td>\n",
       "      <td>2036.000000</td>\n",
       "      <td>124.308412</td>\n",
       "      <td>#FF0000</td>\n",
       "      <td>triangleDown</td>\n",
       "      <td>9</td>\n",
       "      <td>255</td>\n",
       "      <td>0</td>\n",
       "      <td>0</td>\n",
       "      <td>72</td>\n",
       "    </tr>\n",
       "  </tbody>\n",
       "</table>\n",
       "<p>1776408 rows × 11 columns</p>\n",
       "</div>"
      ],
      "text/plain": [
       "           gene            x            y           z    color     glyphName  \\\n",
       "0         Aldoc  7267.578628    37.180359  158.016013  #FFFFFF        circle   \n",
       "1         Aldoc  6485.578628    42.180359   61.091773  #FFFFFF        circle   \n",
       "2         Aldoc  7239.578628    46.180359  158.016013  #FFFFFF        circle   \n",
       "3         Aldoc  7240.578628    50.180359  158.016013  #FFFFFF        circle   \n",
       "4         Aldoc  6557.578628    61.180359  154.554433  #FFFFFF        circle   \n",
       "...         ...          ...          ...         ...      ...           ...   \n",
       "1776403  Yjefn3   624.357445  1991.000000  152.001052  #FF0000  triangleDown   \n",
       "1776404  Yjefn3   442.357445  2014.000000   34.307332  #FF0000  triangleDown   \n",
       "1776405  Yjefn3   597.357445  2022.000000  162.385792  #FF0000  triangleDown   \n",
       "1776406  Yjefn3   516.357445  2033.000000   48.153652  #FF0000  triangleDown   \n",
       "1776407  Yjefn3  1057.357445  2036.000000  124.308412  #FF0000  triangleDown   \n",
       "\n",
       "         classification    r    g    b  pointSourceID  \n",
       "0                     1  255  255  255              0  \n",
       "1                     1  255  255  255              0  \n",
       "2                     1  255  255  255              0  \n",
       "3                     1  255  255  255              0  \n",
       "4                     1  255  255  255              0  \n",
       "...                 ...  ...  ...  ...            ...  \n",
       "1776403               9  255    0    0             72  \n",
       "1776404               9  255    0    0             72  \n",
       "1776405               9  255    0    0             72  \n",
       "1776406               9  255    0    0             72  \n",
       "1776407               9  255    0    0             72  \n",
       "\n",
       "[1776408 rows x 11 columns]"
      ]
     },
     "execution_count": 18,
     "metadata": {},
     "output_type": "execute_result"
    }
   ],
   "source": [
    "df"
   ]
  },
  {
   "cell_type": "code",
   "execution_count": 19,
   "id": "9d94ead8-f6a9-4a53-9a36-e56cfea398df",
   "metadata": {},
   "outputs": [],
   "source": [
    "## remove the mean from xyz coords. Actually I should be removing the width/2, height/2 and depth/2\n",
    "## but this is a good enough approximation\n",
    "df.x = df.x - df.x.mean()\n",
    "df.y = df.y - df.y.mean()\n",
    "df.z = df.z - df.z.mean()"
   ]
  },
  {
   "cell_type": "code",
   "execution_count": 20,
   "id": "f1ef72fa-de67-4de8-aaf9-b78c4a64254c",
   "metadata": {},
   "outputs": [],
   "source": [
    "# len(set(df.barcode_id))"
   ]
  },
  {
   "cell_type": "code",
   "execution_count": 21,
   "id": "b46627ee-58e8-4925-a0d1-ba4eaa21d59f",
   "metadata": {},
   "outputs": [
    {
     "data": {
      "text/plain": [
       "array([[61.2245559205429, '#FFFFFF', 'circle', 0],\n",
       "       [-35.699684079457114, '#FFFFFF', 'circle', 0],\n",
       "       [61.2245559205429, '#FFFFFF', 'circle', 0],\n",
       "       [61.2245559205429, '#FFFFFF', 'circle', 0],\n",
       "       [57.7629759205429, '#FFFFFF', 'circle', 0]], dtype=object)"
      ]
     },
     "execution_count": 21,
     "metadata": {},
     "output_type": "execute_result"
    }
   ],
   "source": [
    "df.head().values[:, [3, 4, 5, -1]]"
   ]
  },
  {
   "cell_type": "code",
   "execution_count": 22,
   "id": "6b082536-efe8-465b-b806-0c63d1f11a8a",
   "metadata": {},
   "outputs": [
    {
     "data": {
      "text/plain": [
       "array([1, 1, 1, ..., 9, 9, 9], dtype=object)"
      ]
     },
     "execution_count": 22,
     "metadata": {},
     "output_type": "execute_result"
    }
   ],
   "source": [
    "df.values[:, 6]"
   ]
  },
  {
   "cell_type": "code",
   "execution_count": 23,
   "id": "2ba2dbf7-8a98-4b5a-8e65-fdc42e3c76b9",
   "metadata": {},
   "outputs": [],
   "source": [
    "def make_las(df, las_path):\n",
    "    raw = df.values\n",
    "    xyz = np.ascontiguousarray(raw[:, 1:4], dtype='float32')\n",
    "    rgb = np.ascontiguousarray(raw[:, 7:10], dtype='float32')\n",
    "    classification = np.ascontiguousarray(raw[:, 6], dtype='float32')\n",
    "    pointSourceID = np.ascontiguousarray(raw[:, -1], dtype='float32')\n",
    "    \n",
    "    hdr = laspy.LasHeader(version=\"1.4\", point_format=7)\n",
    "    mins = np.floor(np.min(xyz, axis=0))\n",
    "    # mins = [352, 6126, 0]\n",
    "    hdr.offset = mins\n",
    "    hdr.scales = np.array([0.001, 0.001, 0.001])\n",
    "\n",
    "    # 2. Create a Las\n",
    "    las = laspy.LasData(hdr)\n",
    "\n",
    "    las.x = xyz[:,0]\n",
    "    las.y = xyz[:,1]\n",
    "    las.z = xyz[:,2]\n",
    "    las.red = rgb[:,0] \n",
    "    las.green = rgb[:,1]\n",
    "    las.blue = rgb[:,2]\n",
    "    las.classification = classification\n",
    "    las.pt_src_id = pointSourceID\n",
    "    # las.intensity = i\n",
    "    \n",
    "    # out_path = r\"gene_pointclouds_z_spacing_1.5micron/las/%s.las\" % gene\n",
    "    out_filename = os.path.join(las_path, 'izzie.las')\n",
    "    if not os.path.exists(os.path.dirname(out_filename)):\n",
    "       os.makedirs(os.path.dirname(out_filename))\n",
    "    las.write(out_filename)\n",
    "    print('las file saved at: %s ' % out_filename) "
   ]
  },
  {
   "cell_type": "code",
   "execution_count": 24,
   "id": "01e49506-ff1b-4625-a5e8-0a7fb80740cc",
   "metadata": {},
   "outputs": [],
   "source": [
    "def make_octree(las_path):\n",
    "    exe = r\"E:\\potree\\PotreeConverter_windows_x64\\PotreeConverter.exe\"\n",
    "    output_dir = os.path.join(os.path.dirname(las_path), 'octree', 'izzie')\n",
    "    if not os.path.exists(output_dir):\n",
    "        os.makedirs(output_dir)\n",
    "    result = subprocess.run([exe, las_path, \"-o\", output_dir, \"-m\", \"poisson\"], capture_output=True, shell=True)\n"
   ]
  },
  {
   "cell_type": "code",
   "execution_count": 25,
   "id": "7fd90b2b-9584-42b1-af32-e878cf19834e",
   "metadata": {},
   "outputs": [
    {
     "name": "stdout",
     "output_type": "stream",
     "text": [
      "las file saved at: F:\\potree\\izzie_pointcloud\\las\\izzie.las \n"
     ]
    }
   ],
   "source": [
    "# Set here where the las files will be saved. The octrees will be under the same parent dir\n",
    "las_dir = os.path.join('F:\\\\' 'potree', 'izzie_pointcloud', 'las')\n",
    "os.path.dirname(las_dir)\n",
    "\n",
    "# make now the octree \n",
    "# mask = df.classification < 10\n",
    "make_las(df, las_dir)\n",
    "make_octree(las_dir)"
   ]
  },
  {
   "cell_type": "code",
   "execution_count": 26,
   "id": "14a253cc-1128-43bb-b43b-13dcc4f70591",
   "metadata": {},
   "outputs": [
    {
     "data": {
      "text/plain": [
       "72"
      ]
     },
     "execution_count": 26,
     "metadata": {},
     "output_type": "execute_result"
    }
   ],
   "source": [
    "gene_id.max()"
   ]
  },
  {
   "cell_type": "code",
   "execution_count": null,
   "id": "d2b3c037-ae50-44fd-a0f2-2340492904ed",
   "metadata": {},
   "outputs": [],
   "source": []
  },
  {
   "cell_type": "code",
   "execution_count": null,
   "id": "a96cde69-349b-4230-a22b-e39ba0e86a19",
   "metadata": {},
   "outputs": [],
   "source": []
  },
  {
   "cell_type": "code",
   "execution_count": null,
   "id": "cde6f34f-8bcb-4fde-9a80-55f4dde6c125",
   "metadata": {},
   "outputs": [],
   "source": []
  },
  {
   "cell_type": "code",
   "execution_count": null,
   "id": "6b3b6784-88e7-4a3e-aa85-e0f4d87c5bcc",
   "metadata": {},
   "outputs": [],
   "source": []
  }
 ],
 "metadata": {
  "kernelspec": {
   "display_name": "Python 3 (ipykernel)",
   "language": "python",
   "name": "python3"
  },
  "language_info": {
   "codemirror_mode": {
    "name": "ipython",
    "version": 3
   },
   "file_extension": ".py",
   "mimetype": "text/x-python",
   "name": "python",
   "nbconvert_exporter": "python",
   "pygments_lexer": "ipython3",
   "version": "3.8.13"
  }
 },
 "nbformat": 4,
 "nbformat_minor": 5
}
